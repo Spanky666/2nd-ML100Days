{
 "cells": [
  {
   "cell_type": "markdown",
   "metadata": {},
   "source": [
    "# Day 001 homework\n"
   ]
  },
  {
   "cell_type": "markdown",
   "metadata": {},
   "source": [
    "## 作業一  \n",
    "請上 Kaggle, 在 Competitions 或 Dataset 中找一組競賽或資料並寫下：\n",
    "\n",
    "1. 你選的這組資料為何重要\n",
    "2. 資料從何而來 (tips: 譬如提供者是誰、以什麼方式蒐集)\n",
    "3. 蒐集而來的資料型態為何\n",
    "4. 這組資料想解決的問題如何評估"
   ]
  },
  {
   "cell_type": "markdown",
   "metadata": {},
   "source": [
    "一、資料名稱：\n",
    "\n",
    "    Kaggle - Google Play Store Apps\n",
    "  \n",
    "    網址：https://www.kaggle.com/lava18/google-play-store-apps\n",
    "\n",
    "二、資料來源：\n",
    "\n",
    "    由 Lavanya Gupta 所蒐集並提供\n",
    "\n",
    "三、使用技術\n",
    "\n",
    "    分別透過iTunes App Store page 簡潔有力的索引來達成爬蟲技術， \n",
    "    以及 JQuery技術來爬取 Google Play Store Apps 中部分的動態頁面。\n",
    " \n",
    "四、蒐集之資料型態\n",
    "    \n",
    "    1.googleplaystore.xlsx\n",
    "    \n",
    "        (1)String: App, Category, Size, Installs, Type, Price, Content Rating, Genres, Current Var, Andriod Var.\n",
    "       \n",
    "        (2)Int: Rating, Reviews.\n",
    "    \n",
    "        (3)Date: Last Updated.\n",
    "    \n",
    "    2.googleplaystore_user_reviews.xlsx\n",
    "    \n",
    "        (1)String: App, Translated_Review, Sentiment.\n",
    "       \n",
    "        (2)Int: Sentiment_Polarity, Sentiment_Subject.\n",
    "    \n",
    "五、本資料重要性\n",
    "\n",
    "    以Apps提供者角度而言，將此組資料透過資料分析技術，可得知使用者使用評論、評比作為回饋，用以改善程式內部問題。\n",
    "    亦可以透過各個App的下載量來推測目前Apps的熱門項目，以作為開發新App的參考基準。\n",
    "    \n",
    "    以使用者角度而言，此組資料的評論、評比可以作為使用者在選擇一個Apps使用的參考點，用以判斷是否值得他們下載該程式。\n",
    "    \n",
    "六、如何評估欲解決之問題\n",
    "    \n",
    "    本資料欲解決之問題為：是否能透過此筆資料來提供Apps開發人員取得商業機會。\n",
    "    \n",
    "    此筆資料提供了使用者在使用不同之Apps時的回饋，也就是最貼近使用者的感受與想法，\n",
    "    因此開發團隊以此筆資料作為開發藍圖中的參考或者作為趨勢的判斷，也會是十分具參考性的指標，因其已涵蓋整個市場的回饋。"
   ]
  },
  {
   "cell_type": "markdown",
   "metadata": {},
   "source": [
    "## 作業二\n",
    "想像你經營一個自由載客車隊，你希望能透過數據分析以提升業績，請你思考並描述你如何規劃整體的分析/解決方案：\n",
    "\n",
    "1. 核心問題為何 (tips：如何定義 「提升業績 & 你的假設」)\n",
    "\n",
    "2. 資料從何而來 (tips：哪些資料可能會對你想問的問題產生影響 & 資料如何蒐集)\n",
    "\n",
    "3. 蒐集而來的資料型態為何\n",
    "\n",
    "4. 你要回答的問題，其如何評估 (tips：你的假設如何驗證)\n"
   ]
  },
  {
   "cell_type": "markdown",
   "metadata": {},
   "source": [
    "一、定義欲解決問題\n",
    "\n",
    "    自由載客車隊之競爭對手為國內計程車服務業，因此最大宗的問題便是「客源之爭」（業績之提升）。\n",
    "    如何透過數據分析在幾近飽和的市場中開創出自身的競爭優勢（或策略）吸引客人搭乘，便是本次研究欲解決之問題。\n",
    "    \n",
    "    \n",
    "\n",
    "二、分析目前問題之環境\n",
    "       \n",
    "       目前計程車服務業之劣勢有以下四點，皆是會影響到顧客如何選擇搭乘交通類型的因素。\n",
    "        (1).車內整潔、環境：\n",
    "                部分計程車業的車內整潔品質皆不是很好。\n",
    "        (2).叫車方式（乘客有時會叫不到車）：\n",
    "                無法即時遇到車子，有時必須等候車子經過。\n",
    "        (3).司機素質：\n",
    "                開車品質、談吐等等。\n",
    "        (4).價格：\n",
    "                跳表計價價格高。\n",
    "    \n",
    "三、評估此問題的解決方案\n",
    "    \n",
    "    1.資料名稱：\n",
    "    \n",
    "        以 Taxi Trajectory Data 為數據為例。\n",
    "        \n",
    "        網址：https://www.kaggle.com/crailtap/taxi-trajectory\n",
    "        \n",
    "    2.資料型態：\n",
    "    \n",
    "        (1)String: CALL_TYPE,ORIGIN_STAND,DAY_TYPE,POLYLINE.\n",
    "\n",
    "        (2)Int: Rating, Reviews,TAXI_ID.\n",
    "\n",
    "        (3)Date: TIMESTEMP.\n",
    "        \n",
    "        (4)Boolean: MISSING_DATA.\n",
    "        \n",
    "    3.如何以數據分析方式解決上述問題並創造商機：\n",
    "    \n",
    "        (1)以顧客、公司星等評比為基準，來評估車內整潔、環境是否髒亂以及司機是否有不禮貌之情形，以管控車內、車況品質來把關是否承認出車。\n",
    "        \n",
    "        (2)使用 Taxi Trajectory Data 來評估車輛分布以及上下車地點，用以預測評估乘客的需求分布，將車輛分配至最適當的分布。\n",
    "        \n",
    "        (3)分析每一位乘客的路線，個人化的租車常用地點以及喜好時段，最後整合整體資料，分類出不同的叫車類型，並於乘客叫車時給予推薦車款。\n",
    "        "
   ]
  },
  {
   "cell_type": "markdown",
   "metadata": {},
   "source": [
    "## 作業三\n",
    "\n",
    "請點選下方檢視範例依照 Day_001_example_of_metrics.ipynb 完成 Mean Squared Error 的函式\n",
    "\n",
    "資料夾結構建立規則提醒：ML100 > data資料夾 & homework資料夾 (ipynb檔) \n",
    "\n",
    "(請注意data的存放位置，建議放在*.ipynb 同一個目錄下，這樣才能在不修改code的情況下正常執行)\n"
   ]
  },
  {
   "cell_type": "code",
   "execution_count": 15,
   "metadata": {},
   "outputs": [],
   "source": [
    "import numpy as np\n",
    "import matplotlib.pyplot as plt\n",
    "import math"
   ]
  },
  {
   "cell_type": "code",
   "execution_count": 29,
   "metadata": {},
   "outputs": [],
   "source": [
    "def mean_squared_error(y, yp):\n",
    "    mse = MSE = sum((y-yp)**2) / len(y)\n",
    "    return mse\n",
    "\n",
    "\n",
    "\n",
    "def mean_absolute_error(y, yp): \n",
    "    mae = MAE = sum(abs(y - yp)) / len(y)\n",
    "    return mae"
   ]
  },
  {
   "cell_type": "code",
   "execution_count": 30,
   "metadata": {
    "scrolled": true
   },
   "outputs": [
    {
     "data": {
      "image/png": "[encoded data removed]",
      "text/plain": [
       "<Figure size 432x288 with 1 Axes>"
      ]
     },
     "metadata": {
      "needs_background": "light"
     },
     "output_type": "display_data"
    }
   ],
   "source": [
    "w = 3\n",
    "b = 0.5\n",
    "\n",
    "x_lin = np.linspace(0, 100, 101)\n",
    "\n",
    "y = (x_lin + np.random.randn(101) * 5) * w + b\n",
    "\n",
    "plt.plot(x_lin, y, 'b.', label = 'data points')\n",
    "plt.title(\"Assume we have data points\")\n",
    "plt.legend(loc = 2)\n",
    "plt.show()"
   ]
  },
  {
   "cell_type": "code",
   "execution_count": 31,
   "metadata": {},
   "outputs": [
    {
     "data": {
      "image/png": "[encoded data removed]",
      "text/plain": [
       "<Figure size 432x288 with 1 Axes>"
      ]
     },
     "metadata": {
      "needs_background": "light"
     },
     "output_type": "display_data"
    }
   ],
   "source": [
    "y_hat = x_lin * w + b\n",
    "plt.plot(x_lin, y, 'b.', label = 'data')\n",
    "plt.plot(x_lin, y_hat, 'r-', label = 'prediction')\n",
    "plt.title(\"Assume we have data points (And the prediction)\")\n",
    "plt.legend(loc = 2)\n",
    "plt.show()"
   ]
  },
  {
   "cell_type": "code",
   "execution_count": 32,
   "metadata": {},
   "outputs": [
    {
     "name": "stdout",
     "output_type": "stream",
     "text": [
      "The Mean squared error is 267.758\n",
      "The Mean absolute error is 13.782\n"
     ]
    }
   ],
   "source": [
    "# 執行 Function, 確認有沒有正常執行\n",
    "MSE = mean_squared_error(y, y_hat)\n",
    "MAE = mean_absolute_error(y, y_hat)\n",
    "print(\"The Mean squared error is %.3f\" % (MSE))\n",
    "print(\"The Mean absolute error is %.3f\" % (MAE))"
   ]
  },
  {
   "cell_type": "markdown",
   "metadata": {},
   "source": [
    "## 練習時間\n",
    "#### 請寫一個函式用來計算 Mean Square Error\n",
    "$ MSE = \\frac{1}{n}\\sum_{i=1}^{n}{(Y_i - \\hat{Y}_i)^2} $\n",
    "\n",
    "### Hint: [如何取平方](https://googoodesign.gitbooks.io/-ezpython/unit-1.html)"
   ]
  }
 ],
 "metadata": {
  "anaconda-cloud": {},
  "kernelspec": {
   "display_name": "Python 3",
   "language": "python",
   "name": "python3"
  },
  "language_info": {
   "codemirror_mode": {
    "name": "ipython",
    "version": 3
   },
   "file_extension": ".py",
   "mimetype": "text/x-python",
   "name": "python",
   "nbconvert_exporter": "python",
   "pygments_lexer": "ipython3",
   "version": "3.7.1"
  }
 },
 "nbformat": 4,
 "nbformat_minor": 1
}
